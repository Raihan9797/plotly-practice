{
 "metadata": {
  "language_info": {
   "codemirror_mode": {
    "name": "ipython",
    "version": 3
   },
   "file_extension": ".py",
   "mimetype": "text/x-python",
   "name": "python",
   "nbconvert_exporter": "python",
   "pygments_lexer": "ipython3",
   "version": "3.8.7-final"
  },
  "orig_nbformat": 2,
  "kernelspec": {
   "name": "python3",
   "display_name": "Python 3.8.7 64-bit",
   "metadata": {
    "interpreter": {
     "hash": "9d2c5bfb966ebb984f7be92d416725536f234fc10ea5b6f4f0b6f56f38e808de"
    }
   }
  }
 },
 "nbformat": 4,
 "nbformat_minor": 2,
 "cells": [
  {
   "cell_type": "code",
   "execution_count": 1,
   "metadata": {},
   "outputs": [],
   "source": [
    "import dash\n",
    "import dash_core_components as dcc\n",
    "import dash_html_components as html\n",
    "from dash.dependencies import Input, Output\n",
    "\n",
    "import plotly.express as px\n",
    "import pandas as pd\n",
    "# import plotly.graph_objects as go"
   ]
  },
  {
   "cell_type": "code",
   "execution_count": 5,
   "metadata": {},
   "outputs": [
    {
     "output_type": "execute_result",
     "data": {
      "text/plain": [
       "  Program  Year        Period    State  ANSI        Affected by  \\\n",
       "0  SURVEY  2019  JAN THRU MAR  Alabama     1            Disease   \n",
       "1  SURVEY  2019  JAN THRU MAR  Alabama     1              Other   \n",
       "2  SURVEY  2019  JAN THRU MAR  Alabama     1         Pesticides   \n",
       "3  SURVEY  2019  JAN THRU MAR  Alabama     1  Pests_excl_Varroa   \n",
       "4  SURVEY  2019  JAN THRU MAR  Alabama     1            Unknown   \n",
       "\n",
       "   Pct of Colonies Impacted state_code  \n",
       "0                       1.8         AL  \n",
       "1                       3.1         AL  \n",
       "2                       0.3         AL  \n",
       "3                      22.7         AL  \n",
       "4                       9.0         AL  "
      ],
      "text/html": "<div>\n<style scoped>\n    .dataframe tbody tr th:only-of-type {\n        vertical-align: middle;\n    }\n\n    .dataframe tbody tr th {\n        vertical-align: top;\n    }\n\n    .dataframe thead th {\n        text-align: right;\n    }\n</style>\n<table border=\"1\" class=\"dataframe\">\n  <thead>\n    <tr style=\"text-align: right;\">\n      <th></th>\n      <th>Program</th>\n      <th>Year</th>\n      <th>Period</th>\n      <th>State</th>\n      <th>ANSI</th>\n      <th>Affected by</th>\n      <th>Pct of Colonies Impacted</th>\n      <th>state_code</th>\n    </tr>\n  </thead>\n  <tbody>\n    <tr>\n      <th>0</th>\n      <td>SURVEY</td>\n      <td>2019</td>\n      <td>JAN THRU MAR</td>\n      <td>Alabama</td>\n      <td>1</td>\n      <td>Disease</td>\n      <td>1.8</td>\n      <td>AL</td>\n    </tr>\n    <tr>\n      <th>1</th>\n      <td>SURVEY</td>\n      <td>2019</td>\n      <td>JAN THRU MAR</td>\n      <td>Alabama</td>\n      <td>1</td>\n      <td>Other</td>\n      <td>3.1</td>\n      <td>AL</td>\n    </tr>\n    <tr>\n      <th>2</th>\n      <td>SURVEY</td>\n      <td>2019</td>\n      <td>JAN THRU MAR</td>\n      <td>Alabama</td>\n      <td>1</td>\n      <td>Pesticides</td>\n      <td>0.3</td>\n      <td>AL</td>\n    </tr>\n    <tr>\n      <th>3</th>\n      <td>SURVEY</td>\n      <td>2019</td>\n      <td>JAN THRU MAR</td>\n      <td>Alabama</td>\n      <td>1</td>\n      <td>Pests_excl_Varroa</td>\n      <td>22.7</td>\n      <td>AL</td>\n    </tr>\n    <tr>\n      <th>4</th>\n      <td>SURVEY</td>\n      <td>2019</td>\n      <td>JAN THRU MAR</td>\n      <td>Alabama</td>\n      <td>1</td>\n      <td>Unknown</td>\n      <td>9.0</td>\n      <td>AL</td>\n    </tr>\n  </tbody>\n</table>\n</div>"
     },
     "metadata": {},
     "execution_count": 5
    }
   ],
   "source": [
    "df = pd.read_csv('intro_bees.csv')\n",
    "df.head()"
   ]
  },
  {
   "cell_type": "code",
   "execution_count": 7,
   "metadata": {},
   "outputs": [
    {
     "output_type": "execute_result",
     "data": {
      "text/plain": [
       "array(['Disease', 'Other', 'Pesticides', 'Pests_excl_Varroa', 'Unknown',\n",
       "       'Varroa_mites'], dtype=object)"
      ]
     },
     "metadata": {},
     "execution_count": 7
    }
   ],
   "source": [
    "df['Affected by'].unique()"
   ]
  },
  {
   "cell_type": "code",
   "execution_count": 3,
   "metadata": {},
   "outputs": [
    {
     "output_type": "execute_result",
     "data": {
      "text/plain": [
       "     State  ANSI Affected by  Year state_code  Pct of Colonies Impacted\n",
       "0  Alabama     1     Disease  2015         AL                      0.05\n",
       "1  Alabama     1     Disease  2016         AL                      1.20\n",
       "2  Alabama     1     Disease  2017         AL                      2.25\n",
       "3  Alabama     1     Disease  2018         AL                      1.30\n",
       "4  Alabama     1     Disease  2019         AL                      1.80"
      ],
      "text/html": "<div>\n<style scoped>\n    .dataframe tbody tr th:only-of-type {\n        vertical-align: middle;\n    }\n\n    .dataframe tbody tr th {\n        vertical-align: top;\n    }\n\n    .dataframe thead th {\n        text-align: right;\n    }\n</style>\n<table border=\"1\" class=\"dataframe\">\n  <thead>\n    <tr style=\"text-align: right;\">\n      <th></th>\n      <th>State</th>\n      <th>ANSI</th>\n      <th>Affected by</th>\n      <th>Year</th>\n      <th>state_code</th>\n      <th>Pct of Colonies Impacted</th>\n    </tr>\n  </thead>\n  <tbody>\n    <tr>\n      <th>0</th>\n      <td>Alabama</td>\n      <td>1</td>\n      <td>Disease</td>\n      <td>2015</td>\n      <td>AL</td>\n      <td>0.05</td>\n    </tr>\n    <tr>\n      <th>1</th>\n      <td>Alabama</td>\n      <td>1</td>\n      <td>Disease</td>\n      <td>2016</td>\n      <td>AL</td>\n      <td>1.20</td>\n    </tr>\n    <tr>\n      <th>2</th>\n      <td>Alabama</td>\n      <td>1</td>\n      <td>Disease</td>\n      <td>2017</td>\n      <td>AL</td>\n      <td>2.25</td>\n    </tr>\n    <tr>\n      <th>3</th>\n      <td>Alabama</td>\n      <td>1</td>\n      <td>Disease</td>\n      <td>2018</td>\n      <td>AL</td>\n      <td>1.30</td>\n    </tr>\n    <tr>\n      <th>4</th>\n      <td>Alabama</td>\n      <td>1</td>\n      <td>Disease</td>\n      <td>2019</td>\n      <td>AL</td>\n      <td>1.80</td>\n    </tr>\n  </tbody>\n</table>\n</div>"
     },
     "metadata": {},
     "execution_count": 3
    }
   ],
   "source": [
    "df = df.groupby(['State', 'ANSI', 'Affected by', 'Year', 'state_code'])[['Pct of Colonies Impacted']].mean()\n",
    "df.reset_index(inplace = True)\n",
    "df.head()"
   ]
  },
  {
   "cell_type": "code",
   "execution_count": null,
   "metadata": {},
   "outputs": [],
   "source": []
  }
 ]
}